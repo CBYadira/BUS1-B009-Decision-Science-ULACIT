{
  "nbformat": 4,
  "nbformat_minor": 0,
  "metadata": {
    "colab": {
      "name": "Diario1- Yadira-Castillo-Barahona.ipynb",
      "provenance": [],
      "authorship_tag": "ABX9TyNEDY02kY3YDo06QUEkCsv/",
      "include_colab_link": true
    },
    "kernelspec": {
      "name": "python3",
      "display_name": "Python 3"
    },
    "language_info": {
      "name": "python"
    }
  },
  "cells": [
    {
      "cell_type": "markdown",
      "metadata": {
        "id": "view-in-github",
        "colab_type": "text"
      },
      "source": [
        "<a href=\"https://colab.research.google.com/github/CBYadira/BUS1-B009-Decision-Science-ULACIT/blob/main/Diario1_Yadira_Castillo_Barahona.ipynb\" target=\"_parent\"><img src=\"https://colab.research.google.com/assets/colab-badge.svg\" alt=\"Open In Colab\"/></a>"
      ]
    },
    {
      "cell_type": "code",
      "execution_count": null,
      "metadata": {
        "colab": {
          "base_uri": "https://localhost:8080/"
        },
        "id": "9Fkf0GZOU20h",
        "outputId": "3a21f3ca-5184-4bfb-f4d5-5a23d603492b"
      },
      "outputs": [
        {
          "output_type": "stream",
          "name": "stdout",
          "text": [
            "Hello World!\n"
          ]
        }
      ],
      "source": [
        "print (\"Hello World!\")"
      ]
    }
  ]
}