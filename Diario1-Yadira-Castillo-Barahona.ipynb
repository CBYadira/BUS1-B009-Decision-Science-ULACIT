{
 "cells": [
  {
   "cell_type": "markdown",
   "id": "4fb69cac",
   "metadata": {},
   "source": [
    "# Practicas Sicologia "
   ]
  },
  {
   "cell_type": "markdown",
   "id": "b98b06dc",
   "metadata": {},
   "source": [
    "Practica # 1"
   ]
  },
  {
   "cell_type": "code",
   "execution_count": 1,
   "id": "08f4e01b",
   "metadata": {},
   "outputs": [
    {
     "name": "stdout",
     "output_type": "stream",
     "text": [
      "Hola mundo\n"
     ]
    }
   ],
   "source": [
    "x= \"Hola mundo\" \n",
    "print (x)"
   ]
  },
  {
   "cell_type": "markdown",
   "id": "1c0a1e4e",
   "metadata": {},
   "source": [
    " practica # 2"
   ]
  },
  {
   "cell_type": "code",
   "execution_count": null,
   "id": "9a671fd1",
   "metadata": {},
   "outputs": [],
   "source": []
  },
  {
   "cell_type": "markdown",
   "id": "d655df56",
   "metadata": {},
   "source": []
  }
 ],
 "metadata": {
  "kernelspec": {
   "display_name": "Python 3 (ipykernel)",
   "language": "python",
   "name": "python3"
  },
  "language_info": {
   "codemirror_mode": {
    "name": "ipython",
    "version": 3
   },
   "file_extension": ".py",
   "mimetype": "text/x-python",
   "name": "python",
   "nbconvert_exporter": "python",
   "pygments_lexer": "ipython3",
   "version": "3.9.7"
  }
 },
 "nbformat": 4,
 "nbformat_minor": 5
}
