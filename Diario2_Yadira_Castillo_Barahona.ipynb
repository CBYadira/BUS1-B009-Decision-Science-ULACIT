{
  "nbformat": 4,
  "nbformat_minor": 0,
  "metadata": {
    "colab": {
      "name": "Diario2- Yadira-Castillo-Barahona.ipynb",
      "provenance": [],
      "collapsed_sections": [],
      "toc_visible": true
    },
    "kernelspec": {
      "name": "python3",
      "display_name": "Python 3"
    },
    "language_info": {
      "name": "python"
    }
  },
  "cells": [
    {
      "cell_type": "code",
      "execution_count": null,
      "metadata": {
        "id": "pLfL0SojDTn0"
      },
      "outputs": [],
      "source": [
        "import math\n"
      ]
    },
    {
      "cell_type": "code",
      "source": [
        "import math as mt\n",
        "r = mt.pi + 8**4\n",
        "print (r)"
      ],
      "metadata": {
        "colab": {
          "base_uri": "https://localhost:8080/"
        },
        "id": "yOeVVjcOERtA",
        "outputId": "6c064f28-4e62-43fe-9b3e-0767ef1316d3"
      },
      "execution_count": null,
      "outputs": [
        {
          "output_type": "stream",
          "name": "stdout",
          "text": [
            "4099.14159265359\n"
          ]
        }
      ]
    },
    {
      "cell_type": "code",
      "source": [
        "r= 1342- 1677*(9/7)-6 \n",
        "result= abs (r)\n",
        "print(r)"
      ],
      "metadata": {
        "id": "UTEMrC1jEyRv",
        "colab": {
          "base_uri": "https://localhost:8080/"
        },
        "outputId": "5c60e384-1921-4efa-f03d-c9e426888891"
      },
      "execution_count": null,
      "outputs": [
        {
          "output_type": "stream",
          "name": "stdout",
          "text": [
            "-820.1428571428573\n"
          ]
        }
      ]
    },
    {
      "cell_type": "code",
      "source": [
        "mt.factorial(9)\n"
      ],
      "metadata": {
        "colab": {
          "base_uri": "https://localhost:8080/"
        },
        "id": "4pkU6K68Hijs",
        "outputId": "b8dbe2d7-ad59-40ba-8cf9-630dc179c06f"
      },
      "execution_count": null,
      "outputs": [
        {
          "output_type": "execute_result",
          "data": {
            "text/plain": [
              "362880"
            ]
          },
          "metadata": {},
          "execution_count": 4
        }
      ]
    },
    {
      "cell_type": "code",
      "source": [
        "mt.log(7,10)"
      ],
      "metadata": {
        "colab": {
          "base_uri": "https://localhost:8080/"
        },
        "id": "XQJUs_lTIXav",
        "outputId": "73141154-69e0-4ae2-8eef-60d1bdf2f9d3"
      },
      "execution_count": null,
      "outputs": [
        {
          "output_type": "execute_result",
          "data": {
            "text/plain": [
              "0.8450980400142567"
            ]
          },
          "metadata": {},
          "execution_count": 5
        }
      ]
    },
    {
      "cell_type": "code",
      "source": [
        "mt.e"
      ],
      "metadata": {
        "colab": {
          "base_uri": "https://localhost:8080/"
        },
        "id": "qrQhs3xAIxFT",
        "outputId": "0f12633f-9a8e-4ed9-b2a2-6a47ad54dba0"
      },
      "execution_count": null,
      "outputs": [
        {
          "output_type": "execute_result",
          "data": {
            "text/plain": [
              "2.718281828459045"
            ]
          },
          "metadata": {},
          "execution_count": 6
        }
      ]
    },
    {
      "cell_type": "code",
      "source": [
        "r=mt.e**0.555457\n",
        "mt.e**0.555457\n",
        "print(r)"
      ],
      "metadata": {
        "colab": {
          "base_uri": "https://localhost:8080/"
        },
        "id": "YlyrxY01JKqy",
        "outputId": "350d0f6b-fad7-4a5e-f810-8b46f5b6297b"
      },
      "execution_count": null,
      "outputs": [
        {
          "output_type": "stream",
          "name": "stdout",
          "text": [
            "1.7427372337331462\n"
          ]
        }
      ]
    },
    {
      "cell_type": "code",
      "source": [
        "y= mt.pi\n",
        "print(y)\n",
        "\n",
        "z=41\n",
        "print(z)\n",
        "\n",
        "from math import modf\n",
        "\n",
        "\n",
        "x=(2+y) / (7+2*(z**2))\n",
        "print(x)"
      ],
      "metadata": {
        "colab": {
          "base_uri": "https://localhost:8080/"
        },
        "id": "rYpmNN2SJ3EJ",
        "outputId": "99666d46-d6ad-43a6-eaea-0499e9d26813"
      },
      "execution_count": null,
      "outputs": [
        {
          "output_type": "stream",
          "name": "stdout",
          "text": [
            "3.141592653589793\n",
            "41\n",
            "0.001526148012344848\n"
          ]
        }
      ]
    },
    {
      "cell_type": "code",
      "source": [
        "\n",
        "x=[ 2,-6,27,-8,-9,-21,9,5,562, mt.pi]\n",
        "print(x)\n",
        "\n",
        "y=[ 8,9,-31,18,-5,-18, 9,-22,0,9]\n",
        "print (y)"
      ],
      "metadata": {
        "colab": {
          "base_uri": "https://localhost:8080/"
        },
        "id": "v4Eja_TZX5Ee",
        "outputId": "2bc71b57-9cfc-4bbd-90fa-a051c46fd5b0"
      },
      "execution_count": null,
      "outputs": [
        {
          "output_type": "stream",
          "name": "stdout",
          "text": [
            "[2, -6, 27, -8, -9, -21, 9, 5, 562, 3.141592653589793]\n",
            "[8, 9, -31, 18, -5, -18, 9, -22, 0, 9]\n"
          ]
        }
      ]
    },
    {
      "cell_type": "code",
      "source": [
        "import pandas as pd\n",
        "import numpy as np\n",
        "import statistics as st\n",
        "st.mean(x)\n",
        "\n"
      ],
      "metadata": {
        "colab": {
          "base_uri": "https://localhost:8080/"
        },
        "id": "7Wr2aFWzcWPT",
        "outputId": "b67edc5e-c2cd-4978-8b03-328f172282a2"
      },
      "execution_count": null,
      "outputs": [
        {
          "output_type": "execute_result",
          "data": {
            "text/plain": [
              "56.41415926535898"
            ]
          },
          "metadata": {},
          "execution_count": 28
        }
      ]
    },
    {
      "cell_type": "code",
      "source": [
        "st.median(x)"
      ],
      "metadata": {
        "colab": {
          "base_uri": "https://localhost:8080/"
        },
        "id": "M_1ZGhVveD-M",
        "outputId": "0a39b484-ed43-4654-d066-b892df014bc9"
      },
      "execution_count": null,
      "outputs": [
        {
          "output_type": "execute_result",
          "data": {
            "text/plain": [
              "2.5707963267948966"
            ]
          },
          "metadata": {},
          "execution_count": 29
        }
      ]
    },
    {
      "cell_type": "code",
      "source": [
        "st.variance(x)"
      ],
      "metadata": {
        "colab": {
          "base_uri": "https://localhost:8080/"
        },
        "id": "j3ftMNOpfMpY",
        "outputId": "bd1b14aa-dada-471c-fa2d-f713d3b01a80"
      },
      "execution_count": null,
      "outputs": [
        {
          "output_type": "execute_result",
          "data": {
            "text/plain": [
              "31721.032883136468"
            ]
          },
          "metadata": {},
          "execution_count": 30
        }
      ]
    },
    {
      "cell_type": "code",
      "source": [
        "st.stdev(x)"
      ],
      "metadata": {
        "colab": {
          "base_uri": "https://localhost:8080/"
        },
        "id": "mV8U9pXhfVfQ",
        "outputId": "383630fb-31f3-48d9-fb33-83b6c1f843fc"
      },
      "execution_count": null,
      "outputs": [
        {
          "output_type": "execute_result",
          "data": {
            "text/plain": [
              "178.10399457377835"
            ]
          },
          "metadata": {},
          "execution_count": 31
        }
      ]
    },
    {
      "cell_type": "code",
      "source": [
        "st.mean(y)"
      ],
      "metadata": {
        "colab": {
          "base_uri": "https://localhost:8080/"
        },
        "id": "11oUafgVfYZE",
        "outputId": "914cd76b-ebf3-4edb-994c-9f84030f6c3e"
      },
      "execution_count": null,
      "outputs": [
        {
          "output_type": "execute_result",
          "data": {
            "text/plain": [
              "-2.3"
            ]
          },
          "metadata": {},
          "execution_count": 32
        }
      ]
    },
    {
      "cell_type": "code",
      "source": [
        "st.stdev(y)"
      ],
      "metadata": {
        "colab": {
          "base_uri": "https://localhost:8080/"
        },
        "id": "Je1qk8JMfpKz",
        "outputId": "b3a46964-5c80-49dd-c1a7-3be39144883d"
      },
      "execution_count": null,
      "outputs": [
        {
          "output_type": "execute_result",
          "data": {
            "text/plain": [
              "16.234736421225527"
            ]
          },
          "metadata": {},
          "execution_count": 34
        }
      ]
    },
    {
      "cell_type": "code",
      "source": [
        "import matplotlib.pyplot as plt\n",
        "x_simple = np.array([2, - 6, 27, - 8, - 9, - 21, 9, 5, 562, mt.pi])\n",
        "y_simple = np.array([8, 9, - 31, 18, - 5, - 18, 9, - 22, 0, 9])\n",
        "\n",
        "my_rho = np.corrcoef(x_simple, y_simple)\n",
        "print(my_rho)\n"
      ],
      "metadata": {
        "colab": {
          "base_uri": "https://localhost:8080/"
        },
        "id": "Axh7iH_PfunZ",
        "outputId": "61ba147f-9655-452b-a2bf-565b13cca92e"
      },
      "execution_count": null,
      "outputs": [
        {
          "output_type": "stream",
          "name": "stdout",
          "text": [
            "[[1.         0.02692977]\n",
            " [0.02692977 1.        ]]\n"
          ]
        }
      ]
    },
    {
      "cell_type": "code",
      "source": [
        "int_list = [2, - 6, 27, - 8, - 9, - 21, 9, 5, 562, mt.pi]\n",
        "int_list.reverse()\n",
        "print(int_list)"
      ],
      "metadata": {
        "colab": {
          "base_uri": "https://localhost:8080/"
        },
        "id": "5WcYvVCNjpri",
        "outputId": "e9ba88d7-7a2f-4148-e4e2-32d2d1b5e394"
      },
      "execution_count": null,
      "outputs": [
        {
          "output_type": "stream",
          "name": "stdout",
          "text": [
            "[3.141592653589793, 562, 5, 9, -21, -9, -8, 27, -6, 2]\n"
          ]
        }
      ]
    },
    {
      "cell_type": "code",
      "source": [
        "int_list = [8, 9, - 31, 18, - 5, - 18, 9, - 22, 0, 9]\n",
        "int_list.reverse()\n",
        "print(int_list)"
      ],
      "metadata": {
        "colab": {
          "base_uri": "https://localhost:8080/"
        },
        "id": "cGCSTdsDk6vH",
        "outputId": "e820ec5f-ecab-4501-953a-3db05fb76b97"
      },
      "execution_count": null,
      "outputs": [
        {
          "output_type": "stream",
          "name": "stdout",
          "text": [
            "[9, 0, -22, 9, -18, -5, 18, -31, 9, 8]\n"
          ]
        }
      ]
    },
    {
      "cell_type": "code",
      "source": [
        "import pandas as pd\n",
        "\n",
        "df = pd.DataFrame()\n",
        "\n",
        "# creamos las columnas\n",
        "\n",
        "df['Sexo'] = None\n",
        "\n",
        "df['Peso'] = None\n",
        "\n",
        "df['Edad'] = None\n",
        "\n",
        "df['Nivel.Educativo'] = None\n",
        "\n",
        "# añadimos filas por su nombre de fila\n",
        "\n",
        "df.loc[1] = ['H', 76, 25, 'Lic']\n",
        "\n",
        "df.loc[2] = ['M', 67, 23, 'Bach']\n",
        "\n",
        "df.loc[3] = ['H', 55, 19, 'Bach']\n",
        "\n",
        "df.loc[4] = ['M', 57, 18, 'Bach']\n",
        "\n",
        "df.loc[5] = ['H', 87, 57, 'Dr']\n",
        "\n",
        "df.loc[6] = ['M', 48, 13, 'Msc']\n",
        "\n",
        "print(df)"
      ],
      "metadata": {
        "colab": {
          "base_uri": "https://localhost:8080/"
        },
        "id": "LdXbLHJnk-zY",
        "outputId": "589a203b-fce8-4547-dcb6-06f878cf93f1"
      },
      "execution_count": null,
      "outputs": [
        {
          "output_type": "stream",
          "name": "stdout",
          "text": [
            "  Sexo Peso Edad Nivel.Educativo\n",
            "1    H   76   25             Lic\n",
            "2    M   67   23            Bach\n",
            "3    H   55   19            Bach\n",
            "4    M   57   18            Bach\n",
            "5    H   87   57              Dr\n",
            "6    M   48   13             Msc\n"
          ]
        }
      ]
    },
    {
      "cell_type": "code",
      "source": [
        " #4. Escriba instrucciones en Python para sumar los numeros enteros elevados al cubo del 1 al 100"
      ],
      "metadata": {
        "id": "mqPFwpwpukwk"
      },
      "execution_count": null,
      "outputs": []
    },
    {
      "cell_type": "code",
      "source": [
        "lista_cubo = 0\n",
        "n=100\n",
        "\n",
        "for valor in range(n + 1):\n",
        "    suma = valor ** 3\n",
        "    lista_cubo = lista_cubo + suma\n",
        "\n",
        "print(lista_cubo)\n",
        "\n"
      ],
      "metadata": {
        "colab": {
          "base_uri": "https://localhost:8080/"
        },
        "id": "ywhG7qRn5uox",
        "outputId": "2f368c09-f4c6-4e0c-b053-7a6ebbf205d4"
      },
      "execution_count": 1,
      "outputs": [
        {
          "output_type": "stream",
          "name": "stdout",
          "text": [
            "25502500\n"
          ]
        }
      ]
    },
    {
      "cell_type": "code",
      "source": [
        ""
      ],
      "metadata": {
        "id": "x6QKJmNKCNL_"
      },
      "execution_count": null,
      "outputs": []
    }
  ]
}